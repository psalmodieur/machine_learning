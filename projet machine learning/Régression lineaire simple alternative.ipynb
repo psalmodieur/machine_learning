{
 "cells": [
  {
   "cell_type": "code",
   "execution_count": 1,
   "metadata": {},
   "outputs": [],
   "source": [
    "#import de panda pour definir les éléments de calcul et acces au fichier\n",
    "import pandas as pd"
   ]
  },
  {
   "cell_type": "code",
   "execution_count": 2,
   "metadata": {},
   "outputs": [
    {
     "data": {
      "text/html": [
       "<div>\n",
       "<style scoped>\n",
       "    .dataframe tbody tr th:only-of-type {\n",
       "        vertical-align: middle;\n",
       "    }\n",
       "\n",
       "    .dataframe tbody tr th {\n",
       "        vertical-align: top;\n",
       "    }\n",
       "\n",
       "    .dataframe thead th {\n",
       "        text-align: right;\n",
       "    }\n",
       "</style>\n",
       "<table border=\"1\" class=\"dataframe\">\n",
       "  <thead>\n",
       "    <tr style=\"text-align: right;\">\n",
       "      <th></th>\n",
       "      <th>heure_rev</th>\n",
       "      <th>note</th>\n",
       "    </tr>\n",
       "  </thead>\n",
       "  <tbody>\n",
       "    <tr>\n",
       "      <th>0</th>\n",
       "      <td>2</td>\n",
       "      <td>10</td>\n",
       "    </tr>\n",
       "    <tr>\n",
       "      <th>1</th>\n",
       "      <td>3</td>\n",
       "      <td>12</td>\n",
       "    </tr>\n",
       "    <tr>\n",
       "      <th>2</th>\n",
       "      <td>4</td>\n",
       "      <td>20</td>\n",
       "    </tr>\n",
       "    <tr>\n",
       "      <th>3</th>\n",
       "      <td>5</td>\n",
       "      <td>22</td>\n",
       "    </tr>\n",
       "    <tr>\n",
       "      <th>4</th>\n",
       "      <td>6</td>\n",
       "      <td>21</td>\n",
       "    </tr>\n",
       "  </tbody>\n",
       "</table>\n",
       "</div>"
      ],
      "text/plain": [
       "   heure_rev  note\n",
       "0          2    10\n",
       "1          3    12\n",
       "2          4    20\n",
       "3          5    22\n",
       "4          6    21"
      ]
     },
     "execution_count": 2,
     "metadata": {},
     "output_type": "execute_result"
    }
   ],
   "source": [
    "df = pd.read_csv(\"reg_simple.csv\")\n",
    "df.head()"
   ]
  },
  {
   "cell_type": "code",
   "execution_count": 3,
   "metadata": {},
   "outputs": [],
   "source": [
    "#selection de la première colonne de notre tableau en l'assignant à x\n",
    "x = df['note']\n",
    "#selection de deuxième colonnes de notre tableau en l'assignant à y\n",
    "y = df['heure_rev'] "
   ]
  },
  {
   "cell_type": "code",
   "execution_count": 4,
   "metadata": {},
   "outputs": [
    {
     "name": "stdout",
     "output_type": "stream",
     "text": [
      "somme des valeurs de x =  1378\n",
      "somme des valeurs de y =  409\n",
      "somme des valeurs de x^2 =  90342\n"
     ]
    }
   ],
   "source": [
    "#base\n",
    "x_sum = 0\n",
    "y_sum = 0\n",
    "x2_sum = 0\n",
    "\n",
    "# calcul de la somme de x\n",
    "for xi in x:\n",
    "    x_sum += xi\n",
    "# affichage\n",
    "print(\"somme des valeurs de x = \", x_sum)\n",
    "\n",
    "# calcul de la somme de y\n",
    "for yi in y:\n",
    "    y_sum += yi\n",
    "print(\"somme des valeurs de y = \", y_sum)\n",
    "\n",
    "# calcul des valeurs de x au carré.\n",
    "for xi in x:\n",
    "    x2_sum += xi**2\n",
    "print(\"somme des valeurs de x^2 = \", x2_sum)"
   ]
  },
  {
   "cell_type": "code",
   "execution_count": 5,
   "metadata": {},
   "outputs": [
    {
     "name": "stdout",
     "output_type": "stream",
     "text": [
      "xi =  10 \tyi =  2\n",
      "xi =  12 \tyi =  3\n",
      "xi =  20 \tyi =  4\n",
      "xi =  22 \tyi =  5\n",
      "xi =  21 \tyi =  6\n",
      "xi =  25 \tyi =  7\n",
      "xi =  30 \tyi =  8\n",
      "xi =  21 \tyi =  9\n",
      "xi =  32 \tyi =  10\n",
      "xi =  34 \tyi =  11\n",
      "xi =  35 \tyi =  12\n",
      "xi =  30 \tyi =  13\n",
      "xi =  50 \tyi =  14\n",
      "xi =  45 \tyi =  15\n",
      "xi =  55 \tyi =  16\n",
      "xi =  60 \tyi =  17\n",
      "xi =  66 \tyi =  18\n",
      "xi =  64 \tyi =  19\n",
      "xi =  67 \tyi =  20\n",
      "xi =  72 \tyi =  21\n",
      "xi =  74 \tyi =  22\n",
      "xi =  80 \tyi =  23\n",
      "xi =  79 \tyi =  24\n",
      "xi =  84 \tyi =  25\n",
      "xi =  93 \tyi =  26\n",
      "xi =  98 \tyi =  29\n",
      "xi =  99 \tyi =  30\n",
      "la somme des valeurs de x*y est de  26705.0\n"
     ]
    }
   ],
   "source": [
    "#jointure de x et y ( somme des produits de x X y)\n",
    "for xi, yi in zip(x, y):\n",
    "    print(\"xi = \", xi, \"\\tyi = \", yi)\n",
    "    \n",
    "xy_sum = 0.\n",
    "for xi, yi in zip(x, y):\n",
    "    xy_sum += xi * yi\n",
    "print(\"la somme des valeurs de x*y est de \", xy_sum)"
   ]
  },
  {
   "cell_type": "code",
   "execution_count": 6,
   "metadata": {},
   "outputs": [
    {
     "name": "stdout",
     "output_type": "stream",
     "text": [
      "le nombre de points est de  27\n"
     ]
    }
   ],
   "source": [
    "# nombre des points pour le calcul suivant\n",
    "npoints = len(x)\n",
    "print(\"le nombre de points est de \", npoints)"
   ]
  },
  {
   "cell_type": "code",
   "execution_count": 7,
   "metadata": {},
   "outputs": [
    {
     "name": "stdout",
     "output_type": "stream",
     "text": [
      "a =  0.2913537521976497\n",
      "b =  0.2783159063569908\n"
     ]
    }
   ],
   "source": [
    "#maintenant que nous avons tout les éléments on calcul d'apres la formule, a et b\n",
    "a = (npoints * xy_sum - x_sum * y_sum) / (npoints * x2_sum - x_sum**2)\n",
    "print(\"a = \", a)\n",
    "b = (x2_sum * y_sum - x_sum * xy_sum) / (npoints * x2_sum - x_sum**2)\n",
    "print(\"b = \", b)"
   ]
  },
  {
   "cell_type": "markdown",
   "metadata": {},
   "source": [
    "# visualisation des données"
   ]
  },
  {
   "cell_type": "code",
   "execution_count": 8,
   "metadata": {},
   "outputs": [],
   "source": [
    "#import des modules pour les graphiques\n",
    "%matplotlib inline\n",
    "import matplotlib.pyplot as plt\n",
    "import numpy as np"
   ]
  },
  {
   "cell_type": "code",
   "execution_count": 9,
   "metadata": {},
   "outputs": [
    {
     "data": {
      "text/plain": [
       "<matplotlib.legend.Legend at 0x1c9536d6dc0>"
      ]
     },
     "execution_count": 9,
     "metadata": {},
     "output_type": "execute_result"
    },
    {
     "data": {
      "image/png": "[encoded data removed]",
      "text/plain": [
       "<Figure size 432x288 with 2 Axes>"
      ]
     },
     "metadata": {
      "needs_background": "light"
     },
     "output_type": "display_data"
    }
   ],
   "source": [
    "#droite de régression\n",
    "plt.subplot(2, 1, 1)\n",
    "plt.plot(x, y, \"bo\", label=\"data\")\n",
    "plt.plot(x, a * x + b, \"r-\", label=\"regression\")\n",
    "plt.xlabel(\"x\")\n",
    "plt.ylabel(\"y\")\n",
    "plt.title(\"Regression linéaire avec résidus\")\n",
    "plt.legend(loc=\"lower right\")\n",
    "#les résidus\n",
    "plt.subplot(2, 1, 2)\n",
    "plt.plot(x, y - (a * x + b), \"g-\", label=\"residus\")\n",
    "plt.xlabel(\"x\")\n",
    "plt.ylabel(\"Résidus\")\n",
    "plt.legend(loc=\"upper center\")"
   ]
  },
  {
   "cell_type": "code",
   "execution_count": null,
   "metadata": {},
   "outputs": [],
   "source": []
  }
 ],
 "metadata": {
  "kernelspec": {
   "display_name": "Python 3",
   "language": "python",
   "name": "python3"
  },
  "language_info": {
   "codemirror_mode": {
    "name": "ipython",
    "version": 3
   },
   "file_extension": ".py",
   "mimetype": "text/x-python",
   "name": "python",
   "nbconvert_exporter": "python",
   "pygments_lexer": "ipython3",
   "version": "3.8.3"
  }
 },
 "nbformat": 4,
 "nbformat_minor": 4
}
